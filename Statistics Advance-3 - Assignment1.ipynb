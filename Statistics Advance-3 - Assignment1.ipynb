{
 "cells": [
  {
   "cell_type": "markdown",
   "id": "4f76d9c9-1e88-4ed4-a208-dc2993388eda",
   "metadata": {},
   "source": [
    "# Q1: What is Estimation Statistics? Explain point estimate and interval estimate."
   ]
  },
  {
   "cell_type": "markdown",
   "id": "ccea1212-f757-4c12-a350-4a27a02c5349",
   "metadata": {},
   "source": [
    "A1 : \n",
    "Estimation is the process by which the numerical value of unknown population values are inferred from incomplete data, such as a sample. If a single figure is calculated for each unknown parameter, the process is called point estimation.\n",
    "\n",
    "- Point Estimate : point estimation, in statistics, the process of finding an approximate value of some parameter—such as the mean (average)—of a population from random samples of the population.\n",
    "- Interval estimate : In statistics, interval estimation is the use of sample data to estimate an interval of possible values of a parameter of interest. This is in contrast to point estimation, which gives a single value."
   ]
  },
  {
   "cell_type": "markdown",
   "id": "33e3c6d8-d4cb-4091-a414-03ee7b63db76",
   "metadata": {},
   "source": [
    "# Q2. Write a Python function to estimate the population mean using a sample mean and standard deviation."
   ]
  },
  {
   "cell_type": "markdown",
   "id": "06c25483-a46f-492b-beb7-97664d56e379",
   "metadata": {},
   "source": [
    "A2 : The statistics module in python provides functions called stdev() and pstdev() to calculate the standard deviation of a sample dataset. The stdev() function in python only calculates the sample standard deviation whereas the pstdev() function calculates the population standard deviation."
   ]
  },
  {
   "cell_type": "code",
   "execution_count": 2,
   "id": "2db50f82-9853-4482-aa51-0e90d9daf60d",
   "metadata": {},
   "outputs": [
    {
     "name": "stdout",
     "output_type": "stream",
     "text": [
      "Standard Deviation of the dataset is 1.4719601443879744\n"
     ]
    }
   ],
   "source": [
    "import statistics as st\n",
    "dataset = [2, 3, 4, 1, 2, 5]\n",
    "sd = st.stdev(dataset)\n",
    "print(\"Standard Deviation of the dataset is\", sd)"
   ]
  },
  {
   "cell_type": "markdown",
   "id": "a445a20d-a457-4f23-be12-6b9a72c62dc8",
   "metadata": {},
   "source": [
    "# Q3: What is Hypothesis testing? Why is it used? State the importance of Hypothesis testing."
   ]
  },
  {
   "cell_type": "markdown",
   "id": "3d395590-a86a-429d-aa0c-75213f17a882",
   "metadata": {},
   "source": [
    "A3 : Hypothesis testing is a systematic procedure for deciding whether the results of a research study support a particular theory which applies to a population.\n",
    "\n",
    "- Hypothesis testing uses sample data to evaluate a hypothesis about a population. A hypothesis test assesses how unusual the result is, whether it is reasonable chance variation or whether the result is too extreme to be considered chance variation.\n",
    "\n",
    "- It helps to assume the probability of research failure and progress. \n",
    "- It helps to provide link to the underlying theory and specific research question. \n",
    "- It helps in data analysis and measure the validity and reliability of the research. \n",
    "- It provides a basis or evidence to prove the validity of the research."
   ]
  },
  {
   "cell_type": "markdown",
   "id": "fd36652c-2181-469f-9181-5c4bf74c93b5",
   "metadata": {},
   "source": [
    "# Q4. Create a hypothesis that states whether the average weight of male college students is greater than the average weight of female college students."
   ]
  },
  {
   "cell_type": "markdown",
   "id": "6951b1bd-47c4-4dbc-99cb-c6358da7cdc8",
   "metadata": {},
   "source": [
    "A4 : \n",
    "- Null hypothesis = H0 =  the average weight of male college students is greater than the average weight of female college students\n",
    "- Alternate Hyphothesis = H1 = the average weight of male college students is not greater than the average weight of female college students"
   ]
  },
  {
   "cell_type": "markdown",
   "id": "616bbe54-9d1f-4fd5-b564-6cb86cefe160",
   "metadata": {},
   "source": [
    "# Q5. Write a Python script to conduct a hypothesis test on the difference between two population means, given a sample from each population."
   ]
  },
  {
   "cell_type": "markdown",
   "id": "3e5b7fbb-0729-4760-b1a1-bd00dd33d0cf",
   "metadata": {},
   "source": [
    "A5 : \n",
    "- Step 1: Determine the hypotheses.\n",
    "- The hypotheses for a difference in two population means are similar to those for a difference in two population proportions. The null hypothesis, H0, is again a statement of “no effect” or “no difference.”\n",
    "\n",
    "- H0: μ1 – μ2 = 0, which is the same as H0: μ1 = μ2\n",
    "- The alternative hypothesis, Ha, can be any one of the following.\n",
    "\n",
    "- Ha: μ1 – μ2 < 0, which is the same as Ha: μ1 < μ2\n",
    "- Ha: μ1 – μ2 > 0, which is the same as Ha: μ1 > μ2\n",
    "- Ha: μ1 – μ2 ≠ 0, which is the same as Ha: μ1 ≠ μ2\n",
    "- Step 2: Collect the data.\n",
    "- As usual, how we collect the data determines whether we can use it in the inference procedure. We have our usual two requirements for data collection.\n",
    "\n",
    "- Samples must be random to remove or minimize bias.\n",
    "- Samples must be representative of the populations in question.\n",
    "- We use this hypothesis test when the data meets the following conditions.\n",
    "\n",
    "- The two random samples are independent.\n",
    "- The variable is normally distributed in both populations. If this variable is not known, samples of more than 30 will have a difference in sample means that can be modeled adequately by the t-distribution. As we discussed in “Hypothesis Test for a Population Mean,” t-procedures are robust even when the variable is not normally distributed in the population. If checking normality in the populations is impossible, then we look at the distribution in the samples. If a histogram or dotplot of the data does not show extreme skew or outliers, we take it as a sign that the variable is not heavily skewed in the populations, and we use the inference procedure. (Note: This is the same condition we used for the one-sample t-test in “Hypothesis Test for a Population Mean.”)\n",
    "- Step 3: Assess the evidence.\n",
    "- If the conditions are met, then we calculate the t-test statistic. The t-test statistic has a familiar form.\n",
    "\n",
    "\n",
    "- Since the null hypothesis assumes there is no difference in the population means, the expression (μ1 – μ2) is always zero.\n",
    "\n",
    "- As we learned in “Estimating a Population Mean,” the t-distribution depends on the degrees of freedom (df). In the one-sample and matched-pair cases df = n – 1. For the two-sample t-test, determining the correct df is based on a complicated formula that we do not cover in this course. We will either give the df or use technology to find the df. With the t-test statistic and the degrees of freedom, we can use the appropriate t-model to find the P-value, just as we did in “Hypothesis Test for a Population Mean.” We can even use the same simulation.\n",
    "\n",
    "- Step 4: State a conclusion.\n",
    "- To state a conclusion, we follow what we have done with other hypothesis tests. We compare our P-value to a stated level of significance.\n",
    "\n",
    "- If the P-value ≤ α, we reject the null hypothesis in favor of the alternative hypothesis.\n",
    "- If the P-value > α, we fail to reject the null hypothesis. We do not have enough evidence to support the alternative hypothesis.\n",
    "- As always, we state our conclusion in context, usually by referring to the alternative hypothesis."
   ]
  },
  {
   "cell_type": "markdown",
   "id": "70d5f59c-e5e6-4313-99c6-1a6bbb7abcc7",
   "metadata": {},
   "source": [
    "# Q6: What is a null and alternative hypothesis? Give some examples."
   ]
  },
  {
   "cell_type": "markdown",
   "id": "04d22f7a-47e2-4d23-8e87-87595ee2858b",
   "metadata": {},
   "source": [
    "A6 : In research, there are two types of hypotheses: null and alternative. They work as a complementary pair, each stating that the other is wrong.\n",
    "\n",
    "- Null Hypothesis (H0) – This can be thought of as the implied hypothesis. “Null” meaning “nothing.”  This hypothesis states that there is no difference between groups or no relationship between variables. The null hypothesis is a presumption of status quo or no change.\n",
    "- Alternative Hypothesis (H1) – This is also known as the claim. This hypothesis should state what you expect the data to show, based on your research on the topic. This is your answer to your research question.\n",
    "# Examples:\n",
    "\n",
    "- Null Hypothesis:  H0: There is no difference in the salary of factory workers based on gender.\n",
    "- Alternative Hypothesis:  Ha: Male factory workers have a higher salary than female factory workers.\n",
    "\n",
    "\n",
    "- Null Hypothesis:  H0: There is no relationship between height and shoe size.\n",
    "- Alternative Hypothesis:  Ha: There is a positive relationship between height and shoe size.\n",
    "\n",
    "\n",
    "- Null Hypothesis:  H0: Experience on the job has no impact on the quality of a brick mason’s work.\n",
    "- Alternative Hypothesis:  Ha: The quality of a brick mason’s work is influenced by on-the-job experience."
   ]
  },
  {
   "cell_type": "markdown",
   "id": "3fa3d9f3-0538-4d93-9ffd-a2a58173fd0f",
   "metadata": {},
   "source": [
    "# Q7: Write down the steps involved in hypothesis testing."
   ]
  },
  {
   "cell_type": "markdown",
   "id": "015ccaed-598f-407f-95f6-148613de76f6",
   "metadata": {},
   "source": [
    "A7 : The 7 Step Process of Statistical Hypothesis Testing\n",
    "- Step 1: State the Null Hypothesis\n",
    "- Step 2: State the Alternative Hypothesis\n",
    "- Step 3: Set alpha (a)\n",
    "- Step 4: Collect Data\n",
    "- Step 5: Calculate a test statistic\n",
    "- Step 6: Construct Acceptance / Rejection regions\n",
    "- Step 7: Based on Steps 5 and 6, draw a conclusion about.\n"
   ]
  },
  {
   "cell_type": "markdown",
   "id": "b09b40b1-95ba-4c69-9fd5-610c015956a0",
   "metadata": {},
   "source": [
    "# Q8. Define p-value and explain its significance in hypothesis testing."
   ]
  },
  {
   "cell_type": "markdown",
   "id": "f6dc8abb-e15e-4e08-8482-e5966502af1c",
   "metadata": {},
   "source": [
    "A8 : The p value is a number, calculated from a statistical test, that describes how likely you are to have found a particular set of observations if the null hypothesis were true.\n",
    "\n",
    "- P values are used in hypothesis testing to help decide whether to reject the null hypothesis. The smaller the p value, the more likely you are to reject the null hypothesis.\n",
    "\n",
    "- P values are most often used by researchers to say whether a certain pattern they have measured is statistically significant.\n",
    "\n",
    "- Statistical significance is another way of saying that the p value of a statistical test is small enough to reject the null hypothesis of the test.\n",
    "\n",
    "- How small is small enough? The most common threshold is p < 0.05; that is, when you would expect to find a test statistic as extreme as the one calculated by your test only 5% of the time. But the threshold depends on your field of study – some fields prefer thresholds of 0.01, or even 0.001.\n",
    "\n",
    "- The threshold value for determining statistical significance is also known as the alpha value."
   ]
  },
  {
   "cell_type": "markdown",
   "id": "1b661574-5ae4-4341-affd-c9201d1344bf",
   "metadata": {},
   "source": [
    "# Q9. Generate a Student's t-distribution plot using Python's matplotlib library, with the degrees of freedom parameter set to 10."
   ]
  },
  {
   "cell_type": "code",
   "execution_count": 2,
   "id": "a6749a9e-ec53-403e-8366-306ecf74fd73",
   "metadata": {},
   "outputs": [
    {
     "data": {
      "image/png": "[encoded data removed]",
      "text/plain": [
       "<Figure size 640x480 with 1 Axes>"
      ]
     },
     "metadata": {},
     "output_type": "display_data"
    }
   ],
   "source": [
    "import matplotlib.pyplot as plt\n",
    "import numpy as np\n",
    "from scipy.stats import t\n",
    " \n",
    "x = np.linspace(-5, 5, 100)\n",
    "degrees_of_freedom = [10]\n",
    "for df in degrees_of_freedom:\n",
    "    y = t.pdf(x, df)\n",
    "    plt.plot(x, y, label=f\"Degrees of Freedom = {df}\")\n",
    " \n",
    "plt.xlabel('x')\n",
    "plt.ylabel('PDF')\n",
    "plt.title('T-Distribution with Varying Degrees of Freedom')\n",
    "plt.legend()\n",
    "plt.show()"
   ]
  },
  {
   "cell_type": "markdown",
   "id": "e4404769-9595-4e57-b271-a3f5afb9688a",
   "metadata": {},
   "source": [
    "# Q10. Write a Python program to calculate the two-sample t-test for independent samples, given two random samples of equal size and a null hypothesis that the population means are equal."
   ]
  },
  {
   "cell_type": "code",
   "execution_count": 3,
   "id": "2ec94a16-4837-43e8-82bd-2eb01b75cf7c",
   "metadata": {},
   "outputs": [
    {
     "name": "stdout",
     "output_type": "stream",
     "text": [
      "7.727500000000001 12.260000000000002\n"
     ]
    }
   ],
   "source": [
    "import scipy.stats as stats\n",
    "data_group1 = np.array([14, 15, 15, 16, 13, 8, 14,\n",
    "                        17, 16, 14, 19, 20, 21, 15,\n",
    "                        15, 16, 16, 13, 14, 12])\n",
    "data_group2 = np.array([15, 17, 14, 17, 14, 8, 12,\n",
    "                        19, 19, 14, 17, 22, 24, 16,\n",
    "                        13, 16, 13, 18, 15, 13])\n",
    "print(np.var(data_group1), np.var(data_group2))"
   ]
  },
  {
   "cell_type": "markdown",
   "id": "238507c6-5c45-4223-a5bb-cd85f3933959",
   "metadata": {},
   "source": [
    "# Q11: What is Student’s t distribution? When to use the t-Distribution."
   ]
  },
  {
   "cell_type": "markdown",
   "id": "15cfd9c0-7e08-493f-a7fb-958a356a59bc",
   "metadata": {},
   "source": [
    "The t-distribution is a way of describing a set of observations where most observations fall close to the mean, and the rest of the observations make up the tails on either side. It is a type of normal distribution used for smaller sample sizes, where the variance in the data is unknown.\n",
    "- The t-distribution is most useful for small sample sizes, when the population standard deviation is not known, or both. As the sample size increases, the t-distribution becomes more similar to a normal distribution."
   ]
  },
  {
   "cell_type": "markdown",
   "id": "a07e0322-8e80-4247-b3ca-788fd1554ee5",
   "metadata": {},
   "source": [
    "# Q12: What is t-statistic? State the formula for t-statistic."
   ]
  },
  {
   "cell_type": "markdown",
   "id": "28736231-b366-4fc8-8847-10d4fa256339",
   "metadata": {},
   "source": [
    "A12 : The t-test formula is applied to the sample population. The t-test formula depends on the mean, variance, and standard deviation of the data being compared. There are 3 types of t-tests that could be performed on the n number of samples collected.\n",
    "\n",
    "- One-sample test,\n",
    "- Independent sample t-test and\n",
    "- Paired samples t-test\n",
    "- The critical value is obtained from the t-table looking for the degree of freedom(df = n-1) and the corresponding α value(usually 0.05 or 0.1). If the t-test obtained statistically > CV then the initial hypothesis is wrong and we conclude that the results are significantly different.\n",
    " - Formula = t = (X‾ - μ0) / (s / √n)"
   ]
  },
  {
   "cell_type": "markdown",
   "id": "18a25fbb-182e-49a5-beba-c4855a81a437",
   "metadata": {},
   "source": [
    "# Q13. A coffee shop owner wants to estimate the average daily revenue for their shop. They take a random sample of 50 days and find the sample mean revenue to be $ 500 with a standard deviation of $ 50. Estimate the population mean revenue with a 95% confidence interval."
   ]
  },
  {
   "cell_type": "markdown",
   "id": "43675209-15d4-43f8-939c-ba261e567859",
   "metadata": {},
   "source": [
    "Confidence Interval = Sample Mean ± (Z * (Standard Deviation / √Sample Size))\n",
    "\n",
    "Where:\n",
    "\n",
    "Sample Mean = $500\n",
    "\n",
    "Standard Deviation = $50\n",
    "\n",
    "Sample Size = 50\n",
    "\n",
    "Z is the Z-score for a 95% confidence level.\n",
    "\n",
    "First, you need to find the Z-score for a 95% confidence level. You can look up this value in a standard normal distribution table or use a calculator. For a 95% confidence level, the Z-score is approximately 1.96.\n",
    "\n",
    "Now, plug the values into the formula:\n",
    "\n",
    "Confidence Interval = $500 ± (1.96 * ($50 / √50))\n",
    "\n",
    "Confidence Interval = $500 ± (1.96 * ($50 / 7.07))\n",
    "\n",
    "Confidence Interval ≈ $500 ± (1.96 * $7.07)\n",
    "\n",
    "Confidence Interval ≈ $500 ± $13.86\n",
    "\n",
    "Now, calculate the lower and upper bounds of the confidence interval:\n",
    "\n",
    "Lower Bound = $500 - $13.86 = $486.14\n",
    "Upper Bound = $500 + $13.86 = $513.86\n",
    "\n",
    "So, the 95% confidence interval for the population mean revenue is approximately $486.14 to $513.86. This means we can be 95% confident that the true average daily revenue for the coffee shop falls within this range."
   ]
  },
  {
   "cell_type": "markdown",
   "id": "2c8815a7-2b5d-4aa1-ba8c-1bc5fb3d28bd",
   "metadata": {},
   "source": [
    "# Q14. A researcher hypothesizes that a new drug will decrease blood pressure by 10 mmHg. They conduct a clinical trial with 100 patients and find that the sample mean decrease in blood pressure is 8 mmHg with a standard deviation of 3 mmHg. Test the hypothesis with a significance level of 0.05."
   ]
  },
  {
   "cell_type": "markdown",
   "id": "992d7ebe-1d95-4746-91d2-f7a73ea01d6e",
   "metadata": {},
   "source": [
    "To test the hypothesis that the new drug decreases blood pressure by 10 mmHg with a significance level of 0.05, you can use a one-sample t-test. The null hypothesis (H0) is that the drug has no effect (the mean decrease in blood pressure is not significantly different from 10 mmHg), and the alternative hypothesis (Ha) is that the drug decreases blood pressure by 10 mmHg or more.\n",
    "\n",
    "Here are the given values:\n",
    "\n",
    "Sample Mean (x̄) = 8 mmHg\n",
    "\n",
    "Standard Deviation (σ) = 3 mmHg\n",
    "\n",
    "Sample Size (n) = 100\n",
    "\n",
    "Population Mean (μ0, under the null hypothesis) = 10 mmHg\n",
    "\n",
    "Significance Level (α) = 0.05\n",
    "\n",
    "First, calculate the t-statistic using the formula:\n",
    "\n",
    "t=−6.67\n",
    "\n",
    "Now, find the degrees of freedom (df) for the t-distribution. Since you have 100 patients, df = n - 1 = 100 - 1 = 99.\n",
    "\n",
    "Next, look up the critical t-value for a one-tailed test at a significance level of 0.05 and 99 degrees of freedom. You can use a t-table or an online calculator for this. The critical t-value for a one-tailed test at α = 0.05 and 99 degrees of freedom is approximately -1.6604 (negative because it's a left-tailed test).\n",
    "\n",
    "Compare the calculated t-statistic to the critical t-value:\n",
    "\n",
    "Calculated t-statistic = -6.67\n",
    "\n",
    "Critical t-value (α = 0.05, df = 99) = -1.6604\n",
    "\n",
    "Since the calculated t-statistic (-6.67) is less than the critical t-value (-1.6604), we can reject the null hypothesis.\n",
    "\n",
    "Therefore, at a significance level of 0.05, there is enough evidence to conclude that the new drug decreases blood pressure by more than 10 mmHg.\n"
   ]
  },
  {
   "cell_type": "markdown",
   "id": "937980bd-697a-456b-85af-7a7dfd8f4be4",
   "metadata": {},
   "source": [
    "# Q15. An electronics company produces a certain type of product with a mean weight of 5 pounds and a standard deviation of 0.5 pounds. A random sample of 25 products is taken, and the sample mean weight is found to be 4.8 pounds. Test the hypothesis that the true mean weight of the products is less than 5 pounds with a significance level of 0.01."
   ]
  },
  {
   "cell_type": "markdown",
   "id": "e4290542-a9a5-449a-b813-e0ea1406f960",
   "metadata": {},
   "source": [
    "To test the hypothesis that the true mean weight of the products is less than 5 pounds with a significance level of 0.01, you can use a one-sample t-test. The null hypothesis (H0) is that the true mean weight is equal to 5 pounds, and the alternative hypothesis (Ha) is that the true mean weight is less than 5 pounds.\n",
    "\n",
    "Here are the given values:\n",
    "\n",
    "Population Mean (μ) = 5 pounds (under the null hypothesis)\n",
    "\n",
    "Standard Deviation (σ) = 0.5 pounds\n",
    "\n",
    "Sample Size (n) = 25\n",
    "\n",
    "Sample Mean (x̄) = 4.8 pounds\n",
    "\n",
    "Significance Level (α) = 0.01\n",
    "\n",
    "First, calculate the t-statistic using the formula:\n",
    "\n",
    "t=−2\n",
    "\n",
    "Now, find the degrees of freedom (df) for the t-distribution. Since you have 25 products in the sample, df = n - 1 = 25 - 1 = 24.\n",
    "\n",
    "Next, look up the critical t-value for a one-tailed test at a significance level of 0.01 and 24 degrees of freedom. You can use a t-table or an online calculator for this. The critical t-value for a one-tailed test at α = 0.01 and 24 degrees of freedom is approximately -2.4922 (negative because it's a left-tailed test).\n",
    "\n",
    "Compare the calculated t-statistic to the critical t-value:\n",
    "\n",
    "Calculated t-statistic = -2\n",
    "Critical t-value (α = 0.01, df = 24) = -2.4922\n",
    "Since the calculated t-statistic (-2) is greater than the critical t-value (-2.4922), we fail to reject the null hypothesis.\n",
    "\n",
    "Therefore, at a significance level of 0.01, there is not enough evidence to conclude that the true mean weight of the products is less than 5 pounds. The data does not support the claim that the mean weight is less than 5 pounds.\n"
   ]
  },
  {
   "cell_type": "markdown",
   "id": "4d2865a1-99aa-4376-bc92-7a5954c86eeb",
   "metadata": {},
   "source": [
    "# Q16. Two groups of students are given different study materials to prepare for a test. The first group (n1 = 30) has a mean score of 80 with a standard deviation of 10, and the second group (n2 = 40) has a mean score of 75 with a standard deviation of 8. Test the hypothesis that the population means for the two groups are equal with a significance level of 0.01."
   ]
  },
  {
   "cell_type": "markdown",
   "id": "77c4e34f-c8dd-457f-b975-b601f89c9dce",
   "metadata": {},
   "source": [
    "To test the hypothesis that the population means for the two groups are equal, you can use a two-sample t-test. The null hypothesis (H0) is that the population means are equal, and the alternative hypothesis (Ha) is that they are not equal.\n",
    "\n",
    "Here are the given values for both groups:\n",
    "\n",
    "Group 1:\n",
    "\n",
    "Sample Size (n1) = 30\n",
    "\n",
    "Sample Mean (x̄1) = 80\n",
    "\n",
    "Standard Deviation (σ1) = 10\n",
    "\n",
    "Group 2:\n",
    "\n",
    "Sample Size (n2) = 40\n",
    "\n",
    "Sample Mean (x̄2) = 75\n",
    "\n",
    "Standard Deviation (σ2) = 8\n",
    "\n",
    "Significance Level (α) = 0.01\n",
    "\n",
    "First, calculate the test statistic for a two-sample t-test. You can use the formula:\n",
    "\n",
    "t≈2.2528\n",
    "\n",
    "Now, find the degrees of freedom (df) for the t-distribution. You can use the formula for the degrees of freedom in a two-sample t-test, which is:\n",
    "\n",
    "df≈54.12\n",
    "\n",
    "Now, you need to find the critical t-value for a two-tailed test at α = 0.01 and df = 54.12. You can use a t-table or an online calculator for this. The critical t-value for a two-tailed test at α = 0.01 and df ≈ 54.12 is approximately ±2.662.\n",
    "\n",
    "Compare the calculated t-statistic (2.2528) to the critical t-value (±2.662):\n",
    "\n",
    "Since the calculated t-statistic falls within the range of -2.662 to 2.662, we fail to reject the null hypothesis.\n",
    "\n",
    "Therefore, at a significance level of 0.01, there is not enough evidence to conclude that the population means for the two groups are different."
   ]
  },
  {
   "cell_type": "markdown",
   "id": "9bbb7bfc-7d95-471e-960c-328948d95002",
   "metadata": {},
   "source": [
    "# Note - Respacted sir. I know the formula of \"T\" and \"Degree of Freedom\". I am not able to write in Jupyter notebook. Like I dont know how to write formula which is divided. So I calculate in my fulscape notebook and then I "
   ]
  }
 ],
 "metadata": {
  "kernelspec": {
   "display_name": "Python 3 (ipykernel)",
   "language": "python",
   "name": "python3"
  },
  "language_info": {
   "codemirror_mode": {
    "name": "ipython",
    "version": 3
   },
   "file_extension": ".py",
   "mimetype": "text/x-python",
   "name": "python",
   "nbconvert_exporter": "python",
   "pygments_lexer": "ipython3",
   "version": "3.10.8"
  }
 },
 "nbformat": 4,
 "nbformat_minor": 5
}
